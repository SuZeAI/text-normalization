{
 "cells": [
  {
   "cell_type": "code",
   "execution_count": 2,
   "id": "392f35c9",
   "metadata": {},
   "outputs": [
    {
     "name": "stdout",
     "output_type": "stream",
     "text": [
      "/data/datnt3/text-normalization\n"
     ]
    }
   ],
   "source": [
    "%cd ../.."
   ]
  },
  {
   "cell_type": "code",
   "execution_count": 3,
   "id": "598c9b34",
   "metadata": {},
   "outputs": [],
   "source": [
    "import re\n",
    "from typing import List, Optional\n",
    "from core.data_preprocessing.data_augmentation.number_rand import NumberRand\n",
    "\n",
    "NUM_GEN = 5\n"
   ]
  },
  {
   "cell_type": "code",
   "execution_count": 9,
   "id": "04df11f0",
   "metadata": {},
   "outputs": [],
   "source": [
    "def dmdmy_generate(value: str) -> List[str]:\n",
    "    generated_list = []\n",
    "    \n",
    "    value = value.strip()\n",
    "    parts = re.split(r\"[-–—−]\", value)\n",
    "    if len(parts) != 2:\n",
    "        print(\"Wrong format\")\n",
    "        return value\n",
    "    \n",
    "    for _ in range(NUM_GEN):\n",
    "        sample = \"\"\n",
    "        seperator = NumberRand.date_seperator_rand()\n",
    "        \n",
    "        for i in range(len(parts)):\n",
    "            parts[i] = parts[i].strip()\n",
    "            prefix_match = re.match(r\"^(ngày|sáng|trưa|chiều|tối)\\s*\", parts[i])\n",
    "            prefix = prefix_match.group(0) if prefix_match else \"\"\n",
    "            \n",
    "            if i == 0:\n",
    "                day0 = NumberRand.day_rand()\n",
    "                month0 = NumberRand.month_rand() \n",
    "                sample += f\"{prefix}{day0}{seperator}{month0} - \"\n",
    "            else:\n",
    "                day1 = NumberRand.day_rand(day0)\n",
    "                month1 = NumberRand.month_rand(month0)\n",
    "                year1 = NumberRand.year_rand()\n",
    "                sample += f\"{prefix}{day1}{seperator}{month1}{seperator}{year1}\"\n",
    "        generated_list.append(sample.strip())\n",
    "    return generated_list"
   ]
  },
  {
   "cell_type": "code",
   "execution_count": 10,
   "id": "46227d5e",
   "metadata": {},
   "outputs": [
    {
     "name": "stdout",
     "output_type": "stream",
     "text": [
      "['ngày 27/10 - 28/12/1975', 'ngày 15.1 - 19.12.1842', 'ngày 13/7 - 14/11/1858', 'ngày 13.5 - 28.7.1799', 'ngày 16/3 - 18/10/1968']\n"
     ]
    }
   ],
   "source": [
    "print(dmdmy_generate(\"ngày 1/2 - 3/4/2025\"))"
   ]
  },
  {
   "cell_type": "code",
   "execution_count": 11,
   "id": "fbe4a1ba",
   "metadata": {},
   "outputs": [],
   "source": [
    "def ddmy_generate(value: str) -> List[str]:\n",
    "        generated_list = []\n",
    "        \n",
    "        value = value.strip()\n",
    "        parts = re.split(r\"[-–—−]\", value)\n",
    "        if len(parts) != 2:\n",
    "            print(\"Wrong format\")\n",
    "            return value\n",
    "        \n",
    "        for _ in range(NUM_GEN):\n",
    "            sample = \"\"\n",
    "            seperator = NumberRand.date_seperator_rand()\n",
    "            \n",
    "            for i in range(len(parts)):\n",
    "                parts[i] = parts[i].strip()\n",
    "                prefix_match = re.match(r\"^(ngày|sáng|trưa|chiều|tối)\\s*\", parts[i])\n",
    "                prefix = prefix_match.group(0) if prefix_match else \"\"\n",
    "                \n",
    "                if i == 0:\n",
    "                    day0 = NumberRand.day_rand()\n",
    "                    sample += f\"{prefix}{day0} - \"\n",
    "                else:\n",
    "                    day1 = NumberRand.day_rand(day0)\n",
    "                    month1 = NumberRand.month_rand()\n",
    "                    year1 = NumberRand.year_rand()\n",
    "                    sample += f\"{prefix}{day1}{seperator}{month1}{seperator}{year1}\"\n",
    "            generated_list.append(sample.strip())\n",
    "        return generated_list"
   ]
  },
  {
   "cell_type": "code",
   "execution_count": 12,
   "id": "53729a53",
   "metadata": {},
   "outputs": [
    {
     "name": "stdout",
     "output_type": "stream",
     "text": [
      "['6 - 28/10/1701', '2 - 23/10/1768', '27 - 28/4/2048', '25 - 28.9.2022', '8 - 15.11.1921']\n"
     ]
    }
   ],
   "source": [
    "print(ddmy_generate(\"1-3/4/2024\"))"
   ]
  },
  {
   "cell_type": "code",
   "execution_count": 4,
   "id": "9624ece3",
   "metadata": {},
   "outputs": [],
   "source": [
    "def dmdm_generate(value: str) -> List[str]:\n",
    "        generated_list = []\n",
    "        \n",
    "        value = value.strip()\n",
    "        parts = re.split(r\"[-–—−]\", value)\n",
    "        if len(parts) != 2:\n",
    "            print(\"Wrong format\")\n",
    "            return value\n",
    "        \n",
    "        for _ in range(NUM_GEN):\n",
    "            sample = \"\"\n",
    "            seperator = NumberRand.date_seperator_rand()\n",
    "            \n",
    "            for i in range(len(parts)):\n",
    "                parts[i] = parts[i].strip()\n",
    "                prefix_match = re.match(r\"^(ngày)\\s*\", parts[i])\n",
    "                prefix = prefix_match.group(0) if prefix_match else \"\"\n",
    "                \n",
    "                if i == 0:\n",
    "                    day0 = NumberRand.day_rand()\n",
    "                    month0 = NumberRand.month_rand() \n",
    "                    sample += f\"{prefix}{day0}{seperator}{month0} - \"\n",
    "                else:\n",
    "                    day1 = NumberRand.day_rand(day0)\n",
    "                    month1 = NumberRand.month_rand(month0)\n",
    "                    sample += f\"{prefix}{day1}{seperator}{month1}\"\n",
    "            generated_list.append(sample.strip())\n",
    "        return generated_list"
   ]
  },
  {
   "cell_type": "code",
   "execution_count": 5,
   "id": "e6167d14",
   "metadata": {},
   "outputs": [
    {
     "name": "stdout",
     "output_type": "stream",
     "text": [
      "['ngày 17/6 - 25/8', 'ngày 12.5 - 25.6', 'ngày 14/10 - 22/12', 'ngày 7/6 - 25/11', 'ngày 27.9 - 28.10']\n"
     ]
    }
   ],
   "source": [
    "print(dmdm_generate(\"ngày 10/3-10/4/2015\"))"
   ]
  },
  {
   "cell_type": "code",
   "execution_count": 8,
   "id": "805082af",
   "metadata": {},
   "outputs": [],
   "source": [
    "def dmydmy_generate(value: str) -> List[str]:\n",
    "        generated_list = []\n",
    "        \n",
    "        value = value.strip()\n",
    "        parts = re.split(r\"[-–—−]\", value)\n",
    "        if len(parts) != 2:\n",
    "            print(\"Wrong format\")\n",
    "            return value\n",
    "        \n",
    "        for _ in range(NUM_GEN):\n",
    "            sample = \"\"\n",
    "            seperator = NumberRand.date_seperator_rand()\n",
    "            \n",
    "            for i in range(len(parts)):\n",
    "                parts[i] = parts[i].strip()\n",
    "                prefix_match = re.match(r\"^(ngày|sáng|trưa|chiều|tối)\\s*\", parts[i])\n",
    "                prefix = prefix_match.group(0) if prefix_match else \"\"\n",
    "                \n",
    "                if i == 0:\n",
    "                    day0 = NumberRand.day_rand()\n",
    "                    month0 = NumberRand.month_rand() \n",
    "                    year0 = NumberRand.year_rand()\n",
    "                    sample += f\"{prefix}{day0}{seperator}{month0}{seperator}{year0} - \"\n",
    "                else:\n",
    "                    day1 = NumberRand.day_rand(day0)\n",
    "                    month1 = NumberRand.month_rand(month0)\n",
    "                    year1 = NumberRand.year_rand(year0)\n",
    "                    sample += f\"{prefix}{day1}{seperator}{month1}{seperator}{year1}\"\n",
    "            generated_list.append(sample.strip())\n",
    "        return generated_list"
   ]
  },
  {
   "cell_type": "code",
   "execution_count": 9,
   "id": "f236c930",
   "metadata": {},
   "outputs": [
    {
     "name": "stdout",
     "output_type": "stream",
     "text": [
      "['16/9/1986 - 21/10/2030', '17/10/1708 - 23/12/1985', '3.10.1942 - 13.12.1955', '8.2.2029 - 11.8.2049', '19.9.1995 - 21.11.2003']\n"
     ]
    }
   ],
   "source": [
    "print(dmydmy_generate(\"1/2/2021-2/2/2022\"))"
   ]
  },
  {
   "cell_type": "code",
   "execution_count": 11,
   "id": "0c6c4bb0",
   "metadata": {},
   "outputs": [],
   "source": [
    "def dmy_generate(value: str) -> List[str]:\n",
    "    generated_list = []\n",
    "    \n",
    "    value = value.strip()\n",
    "    prefix_match = re.match(r\"^(ngày|sáng|trưa|chiều|tối)\\s*\", value)\n",
    "    prefix = prefix_match.group(0) if prefix_match else \"\"\n",
    "    \n",
    "    for _ in range(NUM_GEN):\n",
    "        seperator = NumberRand.date_seperator_rand()\n",
    "        day = NumberRand.day_rand()\n",
    "        month = NumberRand.month_rand()\n",
    "        year = NumberRand.year_rand()\n",
    "        sample = f\"{prefix}{day}{seperator}{month}{seperator}{year}\"\n",
    "        \n",
    "        generated_list.append(sample.strip())\n",
    "    return generated_list"
   ]
  },
  {
   "cell_type": "code",
   "execution_count": 12,
   "id": "31befa78",
   "metadata": {},
   "outputs": [
    {
     "name": "stdout",
     "output_type": "stream",
     "text": [
      "['15.7.1823', '15.8.1857', '3.9.2019', '15.11.1821', '8.10.1847']\n"
     ]
    }
   ],
   "source": [
    "print(dmy_generate(\"1/2/2021\"))"
   ]
  },
  {
   "cell_type": "code",
   "execution_count": 13,
   "id": "836b2b2b",
   "metadata": {},
   "outputs": [],
   "source": [
    "def mmy_generate(value: str) -> List[str]:\n",
    "        generated_list = []\n",
    "        \n",
    "        value = value.strip()\n",
    "        parts = re.split(r\"[-–—−]\", value)\n",
    "        if len(parts) != 2:\n",
    "            print(\"Wrong format\")\n",
    "            return value\n",
    "        \n",
    "        for _ in range(NUM_GEN):\n",
    "            sample = \"\"\n",
    "            seperator = NumberRand.date_seperator_rand()\n",
    "            \n",
    "            for i in range(len(parts)):\n",
    "                parts[i] = parts[i].strip()\n",
    "                prefix_match = re.match(r\"^(tháng)\\s*\", parts[i])\n",
    "                prefix = prefix_match.group(0) if prefix_match else \"\"\n",
    "                \n",
    "                if i == 0:\n",
    "                    month0 = NumberRand.month_rand() \n",
    "                    sample += f\"{prefix}{month0} - \"\n",
    "                else:\n",
    "                    month1 = NumberRand.month_rand(month0)\n",
    "                    year1 = NumberRand.year_rand()\n",
    "                    sample += f\"{prefix}{month1}{seperator}{year1}\"\n",
    "            generated_list.append(sample.strip())\n",
    "        return generated_list"
   ]
  },
  {
   "cell_type": "code",
   "execution_count": 14,
   "id": "2cde71dc",
   "metadata": {},
   "outputs": [
    {
     "name": "stdout",
     "output_type": "stream",
     "text": [
      "['2 - 12.1935', '10 - 11/1829', '7 - 9/1796', '1 - 2.1849', '3 - 10.1973']\n"
     ]
    }
   ],
   "source": [
    "print(mmy_generate(\"7-8/2025\"))"
   ]
  },
  {
   "cell_type": "code",
   "execution_count": 15,
   "id": "1fd559d9",
   "metadata": {},
   "outputs": [],
   "source": [
    "def ddm_generate(value: str) -> List[str]:\n",
    "        generated_list = []\n",
    "        \n",
    "        value = value.strip()\n",
    "        parts = re.split(r\"[-–—−]\", value)\n",
    "        if len(parts) != 2:\n",
    "            print(\"Wrong format\")\n",
    "            return value\n",
    "        \n",
    "        for _ in range(NUM_GEN):\n",
    "            sample = \"\"\n",
    "            seperator = NumberRand.date_seperator_rand()\n",
    "            \n",
    "            for i in range(len(parts)):\n",
    "                parts[i] = parts[i].strip()\n",
    "                prefix_match = re.match(r\"^(ngày|sáng|trưa|chiều|tối)\\s*\", parts[i])\n",
    "                prefix = prefix_match.group(0) if prefix_match else \"\"\n",
    "                \n",
    "                if i == 0:\n",
    "                    day0 = NumberRand.day_rand()\n",
    "                    sample += f\"{prefix}{day0} - \"\n",
    "                else:\n",
    "                    day1 = NumberRand.day_rand(day0)\n",
    "                    month1 = NumberRand.month_rand()\n",
    "                    sample += f\"{prefix}{day1}{seperator}{month1}\"\n",
    "            generated_list.append(sample.strip())\n",
    "        return generated_list"
   ]
  },
  {
   "cell_type": "code",
   "execution_count": 17,
   "id": "77a4f16d",
   "metadata": {},
   "outputs": [
    {
     "name": "stdout",
     "output_type": "stream",
     "text": [
      "['tối 13 - 28/1', 'tối 22 - 23.5', 'tối 23 - 25/3', 'tối 5 - 28/11', 'tối 17 - 21/3']\n"
     ]
    }
   ],
   "source": [
    "print(ddm_generate(\"tối 1-2/8\"))"
   ]
  },
  {
   "cell_type": "code",
   "execution_count": 7,
   "id": "2750436d",
   "metadata": {},
   "outputs": [],
   "source": [
    "def hmhm_generate(value: str) -> List[str]:\n",
    "    generated_list = []\n",
    "\n",
    "    value = value.strip()\n",
    "    parts = re.split(r\"[-–—−]\", value)\n",
    "    if len(parts) != 2:\n",
    "        print(\"Wrong format\")\n",
    "        return value\n",
    "\n",
    "    for _ in range(NUM_GEN):\n",
    "        sample = \"\"\n",
    "        hour_postfix, min_postfix = NumberRand.hour_min_postfix_rand()\n",
    "\n",
    "        hour0 = NumberRand.hour_rand()\n",
    "        minute0 = NumberRand.minute_rand()\n",
    "\n",
    "        hour1 = NumberRand.hour_rand(hour0)\n",
    "        minute1 = NumberRand.minute_rand(minute0)\n",
    "\n",
    "        sample += f\"{hour0}{hour_postfix}{minute0}{min_postfix} - {hour1}{hour_postfix}{minute1}{min_postfix}\"\n",
    "        generated_list.append(sample.strip())\n",
    "    return generated_list"
   ]
  },
  {
   "cell_type": "code",
   "execution_count": 8,
   "id": "a41c27f6",
   "metadata": {},
   "outputs": [
    {
     "name": "stdout",
     "output_type": "stream",
     "text": [
      "['3g2′ - 6g32′', '10g56′ - 17g59′', '9:27 - 17:38', '20:50 - 21:59', \"10g37' - 19g42'\"]\n"
     ]
    }
   ],
   "source": [
    "print(hmhm_generate(\"23:59 - 2:05\"))"
   ]
  },
  {
   "cell_type": "code",
   "execution_count": 4,
   "id": "563e39f1",
   "metadata": {},
   "outputs": [],
   "source": [
    "def tel_generate(value: str) -> List[str]:\n",
    "  generated_list = []\n",
    "\n",
    "  value = value.strip()\n",
    "  value = re.sub(r\"[^\\d+]\", \"\", value)\n",
    "  \n",
    "  for _ in range(NUM_GEN):\n",
    "    tel_digits = NumberRand.tel_rand()\n",
    "    value = f\"{value[:(len(value) - 4)]}{tel_digits}\"\n",
    "    \n",
    "    generated_list.append(value)\n",
    "\n",
    "  return generated_list\n",
    "  "
   ]
  },
  {
   "cell_type": "code",
   "execution_count": 6,
   "id": "11dac0ca",
   "metadata": {},
   "outputs": [
    {
     "name": "stdout",
     "output_type": "stream",
     "text": [
      "['19002027', '19006544', '19002332', '19007834', '19003354']\n"
     ]
    }
   ],
   "source": [
    "print(tel_generate(\"1900 0 060\"))"
   ]
  }
 ],
 "metadata": {
  "kernelspec": {
   "display_name": "unsloth_env",
   "language": "python",
   "name": "python3"
  },
  "language_info": {
   "codemirror_mode": {
    "name": "ipython",
    "version": 3
   },
   "file_extension": ".py",
   "mimetype": "text/x-python",
   "name": "python",
   "nbconvert_exporter": "python",
   "pygments_lexer": "ipython3",
   "version": "3.11.11"
  }
 },
 "nbformat": 4,
 "nbformat_minor": 5
}
