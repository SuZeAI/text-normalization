{
 "cells": [
  {
   "cell_type": "code",
   "execution_count": 1,
   "id": "33db0c17",
   "metadata": {},
   "outputs": [
    {
     "name": "stdout",
     "output_type": "stream",
     "text": [
      "🦥 Unsloth: Will patch your computer to enable 2x faster free finetuning.\n"
     ]
    },
    {
     "name": "stderr",
     "output_type": "stream",
     "text": [
      "/home/vinhpt/miniconda3/envs/unsloth_env/lib/python3.11/site-packages/tqdm/auto.py:21: TqdmWarning: IProgress not found. Please update jupyter and ipywidgets. See https://ipywidgets.readthedocs.io/en/stable/user_install.html\n",
      "  from .autonotebook import tqdm as notebook_tqdm\n"
     ]
    },
    {
     "name": "stdout",
     "output_type": "stream",
     "text": [
      "🦥 Unsloth Zoo will now patch everything to make training faster!\n"
     ]
    }
   ],
   "source": [
    "import unsloth\n",
    "import torch"
   ]
  },
  {
   "cell_type": "code",
   "execution_count": 2,
   "id": "67398f35",
   "metadata": {},
   "outputs": [
    {
     "name": "stdout",
     "output_type": "stream",
     "text": [
      "==((====))==  Unsloth 2025.5.7: Fast Llama patching. Transformers: 4.51.3.\n",
      "   \\\\   /|    NVIDIA GeForce RTX 3060. Num GPUs = 1. Max memory: 11.762 GB. Platform: Linux.\n",
      "O^O/ \\_/ \\    Torch: 2.6.0+cu124. CUDA: 8.6. CUDA Toolkit: 12.4. Triton: 3.2.0\n",
      "\\        /    Bfloat16 = TRUE. FA [Xformers = 0.0.29.post2. FA2 = False]\n",
      " \"-____-\"     Free license: http://github.com/unslothai/unsloth\n",
      "Unsloth: Fast downloading is enabled - ignore downloading bars which are red colored!\n"
     ]
    },
    {
     "name": "stderr",
     "output_type": "stream",
     "text": [
      "Loading checkpoint shards: 100%|██████████| 3/3 [00:01<00:00,  2.15it/s]\n",
      "Unsloth 2025.5.7 patched 28 layers with 28 QKV layers, 28 O layers and 28 MLP layers.\n"
     ]
    }
   ],
   "source": [
    "max_seq_length = 2048 # Choose any! We auto support RoPE Scaling internally!\n",
    "dtype = None # None for auto detection. Float16 for Tesla T4, V100, Bfloat16 for Ampere+\n",
    "load_in_4bit = False # Use 4bit quantization to reduce memory usage. Can be False.\n",
    "\n",
    "if True:\n",
    "    from unsloth import FastLanguageModel\n",
    "    model, tokenizer = FastLanguageModel.from_pretrained(\n",
    "        model_name = \"/data/datnt3/text-normalization/core/model/saved/lora/2025-05-26/vn-llama3.2-3b-finetuned-300k\", # YOUR MODEL YOU USED FOR TRAINING\n",
    "        max_seq_length = max_seq_length,\n",
    "        dtype = dtype,\n",
    "        load_in_4bit = load_in_4bit,\n",
    "    )\n",
    "    \n",
    "    # if torch.cuda.is_available():\n",
    "    #     model.to(\"cuda\") # This will actually load weights into GPU memory if it fits\n",
    "    # else:\n",
    "    #     model.to(\"cpu\")\n",
    "    FastLanguageModel.for_inference(model) # Enable native 2x faster inference\n",
    "\n",
    "# messages = [\n",
    "#     {\"role\": \"system\",\n",
    "#     \"content\": \"You are a phonetic Vietnamese specialist mastering in Text normalization task in Text To Speech. Convert each numerical non-standard word into its spoken phonetic Vietnamese form, integrating it back into the sentence.\"},\n",
    "#     {\"role\": \"user\", \"content\": \"\"\"Convert the NSWs in the below sentence to spoken words: \"đáng chú ý, tiến có 3 tiền án về tội trộm cắp tài sản.\" \"\"\"}\n",
    "# ]\n",
    "# inputs = tokenizer.apply_chat_template(\n",
    "#     messages,\n",
    "#     tokenize = True,\n",
    "#     add_generation_prompt = True, # Must add for generation\n",
    "#     return_tensors = \"pt\",\n",
    "# ).to(\"cuda\")\n",
    "\n",
    "# from transformers import TextStreamer\n",
    "# text_streamer = TextStreamer(tokenizer, skip_prompt = True)\n",
    "# _ = model.generate(input_ids = inputs, streamer = text_streamer, max_new_tokens = 512,\n",
    "#                    use_cache = True, temperature = 1.5, top_p = 0.9)"
   ]
  },
  {
   "cell_type": "code",
   "execution_count": null,
   "id": "89987b58",
   "metadata": {},
   "outputs": [
    {
     "name": "stdout",
     "output_type": "stream",
     "text": [
      "cả ba bộ hài cốt liệt sĩ đều được bó vào tăng võng và cột bằng dây dù, vị trí cách đường đất đỏ lô cao su khoảng hai mươi mét, độ sâu không phẩy tám đến một mét, cách đường lộ vào xã lộc thiện, huyện lộc ninh khoảng ba trăm mét, mỗi mộ cách nhau một mét.<|eot_id|>\n"
     ]
    },
    {
     "ename": "",
     "evalue": "",
     "output_type": "error",
     "traceback": [
      "\u001b[1;31mThe Kernel crashed while executing code in the current cell or a previous cell. \n",
      "\u001b[1;31mPlease review the code in the cell(s) to identify a possible cause of the failure. \n",
      "\u001b[1;31mClick <a href='https://aka.ms/vscodeJupyterKernelCrash'>here</a> for more info. \n",
      "\u001b[1;31mView Jupyter <a href='command:jupyter.viewOutput'>log</a> for further details."
     ]
    }
   ],
   "source": [
    "messages = [\n",
    "    {\"role\": \"system\",\n",
    "    \"content\": \"\"\"\n",
    "    You are a phonetic Vietnamese specialist mastering in Text normalization task in Text To Speech. Convert each numerical non-standard word into its spoken phonetic Vietnamese form, integrating it back into the sentence.\n",
    "    \"\"\"},\n",
    "    {\"role\": \"user\", \"content\": \"\"\"\n",
    "    Expand the below sentence having non-standard words into its spoken phonetic Vietnamese form. \n",
    "    \n",
    "    cả 3 bộ hài cốt liệt sĩ đều được bó vào tăng võng và cột bằng dây dù, vị trí cách đường đất đỏ lô cao su khoảng 20 m, độ sâu 0,8-1 m, cách đường lộ vào xã lộc thiện, huyện lộc ninh khoảng 300 m, mỗi mộ cách nhau một mét.\n",
    "    \n",
    "    \"\"\"}\n",
    "]\n",
    "inputs = tokenizer.apply_chat_template(\n",
    "    messages,\n",
    "    tokenize = True,\n",
    "    add_generation_prompt = True, # Must add for generation\n",
    "    return_tensors = \"pt\",\n",
    ").to(\"cuda\")\n",
    "\n",
    "from transformers import TextStreamer\n",
    "text_streamer = TextStreamer(tokenizer, skip_prompt = True)\n",
    "_ = model.generate(input_ids = inputs, streamer = text_streamer, max_new_tokens = 1024, use_cache = True, temperature = 1.5, top_p = 0.9)"
   ]
  },
  {
   "cell_type": "code",
   "execution_count": null,
   "id": "9507e199",
   "metadata": {},
   "outputs": [],
   "source": []
  },
  {
   "cell_type": "code",
   "execution_count": null,
   "id": "f1ad16e4",
   "metadata": {},
   "outputs": [],
   "source": []
  },
  {
   "cell_type": "markdown",
   "id": "ec504bbe",
   "metadata": {},
   "source": []
  },
  {
   "cell_type": "code",
   "execution_count": null,
   "id": "8fcc764f",
   "metadata": {},
   "outputs": [],
   "source": []
  },
  {
   "cell_type": "code",
   "execution_count": null,
   "id": "c363b119",
   "metadata": {},
   "outputs": [],
   "source": []
  },
  {
   "cell_type": "code",
   "execution_count": null,
   "id": "01894b37",
   "metadata": {},
   "outputs": [],
   "source": []
  },
  {
   "cell_type": "code",
   "execution_count": null,
   "id": "8949bd34",
   "metadata": {},
   "outputs": [],
   "source": []
  },
  {
   "cell_type": "code",
   "execution_count": null,
   "id": "e423d476",
   "metadata": {},
   "outputs": [],
   "source": []
  },
  {
   "cell_type": "code",
   "execution_count": 12,
   "id": "8dea867b",
   "metadata": {},
   "outputs": [
    {
     "ename": "SyntaxError",
     "evalue": "invalid syntax (1093545077.py, line 1)",
     "output_type": "error",
     "traceback": [
      "  \u001b[36mCell\u001b[39m\u001b[36m \u001b[39m\u001b[32mIn[12]\u001b[39m\u001b[32m, line 1\u001b[39m\n\u001b[31m    \u001b[39m\u001b[31m\"chủ tịch quốc hội vương đình huệ chúc mừng trung quốc kỷ niệm một trăm năm thành lập đảng cộng sản trung quốc (ngày một tháng bảy năm một nghìn chín trăm hai mươi mốt đến ngày một tháng bảy năm hai nghìn không trăm hai mươi mốt) và những thành tựu trung quốc đạt được trong việc phát huy tính ưu việt của chế độ xã hội kiểm soát tốt dịch bệnh covid mười chín, sớm khôi phục hoạt động kinh tế và cuộc chiến xóa nghèo thắng lợi toàn diện.\"<|eot_id|>\u001b[39m\n                                                                                                                                                                                                                                                                                                                                                                                                                                                           ^\n\u001b[31mSyntaxError\u001b[39m\u001b[31m:\u001b[39m invalid syntax\n"
     ]
    }
   ],
   "source": [
    "\"chủ tịch quốc hội vương đình huệ chúc mừng trung quốc kỷ niệm một trăm năm thành lập đảng cộng sản trung quốc (ngày một tháng bảy năm một nghìn chín trăm hai mươi mốt đến ngày một tháng bảy năm hai nghìn không trăm hai mươi mốt) và những thành tựu trung quốc đạt được trong việc phát huy tính ưu việt của chế độ xã hội kiểm soát tốt dịch bệnh covid mười chín, sớm khôi phục hoạt động kinh tế và cuộc chiến xóa nghèo thắng lợi toàn diện.\"<|eot_id|>"
   ]
  },
  {
   "cell_type": "code",
   "execution_count": null,
   "id": "2baa3a02",
   "metadata": {},
   "outputs": [],
   "source": []
  },
  {
   "cell_type": "code",
   "execution_count": 12,
   "id": "ab86fe86",
   "metadata": {},
   "outputs": [
    {
     "data": {
      "text/plain": [
       "{'exact_match': np.float64(1.0)}"
      ]
     },
     "execution_count": 12,
     "metadata": {},
     "output_type": "execute_result"
    }
   ],
   "source": [
    "from evaluate import load\n",
    "exact_match_metric = load(\"exact_match\")\n",
    "\n",
    "refs = [\"chủ tịch quốc hội vương đình huệ chúc mừng trung quốc kỷ niệm một trăm năm thành lập đảng cộng sản trung quốc (ngày một tháng bảy năm một nghìn chín trăm hai mươi mốt đến ngày một tháng bảy năm hai nghìn không trăm hai mươi mốt) và những thành tựu trung quốc đạt được trong việc phát huy tính ưu việt của chế độ xã hội kiểm soát tốt dịch bệnh covid? mười chín, sớm khôi phục hoạt động kinh tế và cuộc chiến xóa nghèo thắng lợi toàn diện.\"]\n",
    "preds = [\"chủ tịch quốc hội vương đình huệ chúc mừng trung quốc kỷ niệm một trăm năm thành lập đảng cộng sản trung quốc (ngày một tháng bảy năm một nghìn chín trăm hai mươi mốt đến ngày một tháng bảy năm hai nghìn không trăm hai mươi mốt) và những thành tựu trung quốc đạt được trong việc phát huy tính ưu việt của chế độ xã hội kiểm soát tốt dịch bệnh covid mười chín, sớm khôi phục hoạt động kinh tế và cuộc chiến xóa nghèo thắng lợi toàn diện.\"]\n",
    "\n",
    "results = exact_match_metric.compute(references=refs, predictions=preds, regexes_to_ignore=[\" không trăm\"], ignore_case=True, ignore_punctuation=True)\n",
    "results"
   ]
  }
 ],
 "metadata": {
  "kernelspec": {
   "display_name": "unsloth_env",
   "language": "python",
   "name": "python3"
  },
  "language_info": {
   "codemirror_mode": {
    "name": "ipython",
    "version": 3
   },
   "file_extension": ".py",
   "mimetype": "text/x-python",
   "name": "python",
   "nbconvert_exporter": "python",
   "pygments_lexer": "ipython3",
   "version": "3.11.11"
  }
 },
 "nbformat": 4,
 "nbformat_minor": 5
}
