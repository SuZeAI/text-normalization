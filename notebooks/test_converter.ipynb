{
 "cells": [
  {
   "cell_type": "code",
   "execution_count": 2,
   "id": "4fc8ca6c",
   "metadata": {},
   "outputs": [],
   "source": [
    "import re\n",
    "from ctnx import num_to_words"
   ]
  },
  {
   "cell_type": "code",
   "execution_count": 3,
   "id": "ee3a3fcc",
   "metadata": {},
   "outputs": [],
   "source": [
    "def dmdmy_convert(value: str) -> str:\n",
    "  spoken_words = []\n",
    "\n",
    "  value = value.strip()\n",
    "  parts = re.split(r\"[-–—−]\", value)\n",
    "  if len(parts) != 2:\n",
    "    print(\"Wrong format\")\n",
    "    return value\n",
    "\n",
    "  for i in range(len(parts)):\n",
    "    parts[i] = parts[i].strip()\n",
    "    prefix_match = re.match(r\"^(ngày|sáng|trưa|chiều|tối)\\s*\", parts[i])\n",
    "    prefix = \"\"\n",
    "    if prefix_match:\n",
    "        prefix = prefix_match.group(1) + \" \"\n",
    "        value_part = parts[i][prefix_match.end():]  \n",
    "        splitted_value_part = re.split(r\"[\\.\\/]\", value_part)\n",
    "        if len(splitted_value_part) == 2:\n",
    "          day = splitted_value_part[0]\n",
    "          month = splitted_value_part[1]\n",
    "          if prefix == \"ngày \":\n",
    "            spoken_words.append(f\"{prefix}{num_to_words(day)} tháng {num_to_words(month)}\")\n",
    "          else:\n",
    "            spoken_words.append(f\"{prefix}ngày {num_to_words(day)} tháng {num_to_words(month)}\")\n",
    "        elif len(splitted_value_part) == 3:\n",
    "          day = splitted_value_part[0]\n",
    "          month = splitted_value_part[1]\n",
    "          year = splitted_value_part[2]\n",
    "          if prefix == \"ngày \":\n",
    "            spoken_words.append(f\"{prefix}{num_to_words(day)} tháng {num_to_words(month)} năm {num_to_words(year)}\")\n",
    "          else:\n",
    "            spoken_words.append(f\"{prefix}ngày {num_to_words(day)} tháng {num_to_words(month)} năm {num_to_words(year)}\")\n",
    "    else:\n",
    "        value_part = parts[i]\n",
    "        splitted_value_part = re.split(r\"[\\.\\/]\", value_part)\n",
    "        if len(splitted_value_part) == 2:\n",
    "          day = splitted_value_part[0]\n",
    "          month = splitted_value_part[1]\n",
    "          spoken_words.append(f\"ngày {num_to_words(day)} tháng {num_to_words(month)}\")\n",
    "        elif len(splitted_value_part) == 3:\n",
    "          day = splitted_value_part[0]\n",
    "          month = splitted_value_part[1]\n",
    "          year = splitted_value_part[2]\n",
    "          spoken_words.append(f\"ngày {num_to_words(day)} tháng {num_to_words(month)} năm {num_to_words(year)}\")\n",
    "          \n",
    "  return \" đến \".join(spoken_words) \n",
    "  "
   ]
  },
  {
   "cell_type": "code",
   "execution_count": 6,
   "id": "54ebcadd",
   "metadata": {},
   "outputs": [
    {
     "name": "stdout",
     "output_type": "stream",
     "text": [
      "ngày hai tháng chín đến ngày mười lăm tháng mười năm hai nghìn không trăm hai mươi mốt\n"
     ]
    }
   ],
   "source": [
    "print(dmdmy_convert(\" 2/9 - 15/10/2021\"))"
   ]
  },
  {
   "cell_type": "code",
   "execution_count": null,
   "id": "1e4f323f",
   "metadata": {},
   "outputs": [],
   "source": []
  }
 ],
 "metadata": {
  "kernelspec": {
   "display_name": "unsloth_env",
   "language": "python",
   "name": "python3"
  },
  "language_info": {
   "codemirror_mode": {
    "name": "ipython",
    "version": 3
   },
   "file_extension": ".py",
   "mimetype": "text/x-python",
   "name": "python",
   "nbconvert_exporter": "python",
   "pygments_lexer": "ipython3",
   "version": "3.11.11"
  }
 },
 "nbformat": 4,
 "nbformat_minor": 5
}
