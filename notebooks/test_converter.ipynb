{
 "cells": [
  {
   "cell_type": "code",
   "execution_count": 1,
   "id": "4fc8ca6c",
   "metadata": {},
   "outputs": [],
   "source": [
    "import re\n",
    "from ctnx import num_to_words\n",
    "from vietnam_number import n2w_single\n"
   ]
  },
  {
   "cell_type": "code",
   "execution_count": 3,
   "id": "ee3a3fcc",
   "metadata": {},
   "outputs": [],
   "source": [
    "def dmdmy_convert(value: str) -> str:\n",
    "  spoken_words = []\n",
    "\n",
    "  value = value.strip()\n",
    "  parts = re.split(r\"[-–—−]\", value)\n",
    "  if len(parts) != 2:\n",
    "    print(\"Wrong format\")\n",
    "    return value\n",
    "\n",
    "  for i in range(len(parts)):\n",
    "    parts[i] = parts[i].strip()\n",
    "    prefix_match = re.match(r\"^(ngày|sáng|trưa|chiều|tối)\\s*\", parts[i])\n",
    "    prefix = \"\"\n",
    "    if prefix_match:\n",
    "        prefix = prefix_match.group(1) + \" \"\n",
    "        value_part = parts[i][prefix_match.end():]  \n",
    "        splitted_value_part = re.split(r\"[\\.\\/]\", value_part)\n",
    "        if len(splitted_value_part) == 2:\n",
    "          day = splitted_value_part[0]\n",
    "          month = splitted_value_part[1]\n",
    "          if prefix == \"ngày \":\n",
    "            spoken_words.append(f\"{prefix}{num_to_words(day)} tháng {num_to_words(month)}\")\n",
    "          else:\n",
    "            spoken_words.append(f\"{prefix}ngày {num_to_words(day)} tháng {num_to_words(month)}\")\n",
    "        elif len(splitted_value_part) == 3:\n",
    "          day = splitted_value_part[0]\n",
    "          month = splitted_value_part[1]\n",
    "          year = splitted_value_part[2]\n",
    "          if prefix == \"ngày \":\n",
    "            spoken_words.append(f\"{prefix}{num_to_words(day)} tháng {num_to_words(month)} năm {num_to_words(year)}\")\n",
    "          else:\n",
    "            spoken_words.append(f\"{prefix}ngày {num_to_words(day)} tháng {num_to_words(month)} năm {num_to_words(year)}\")\n",
    "    else:\n",
    "        value_part = parts[i]\n",
    "        splitted_value_part = re.split(r\"[\\.\\/]\", value_part)\n",
    "        if len(splitted_value_part) == 2:\n",
    "          day = splitted_value_part[0]\n",
    "          month = splitted_value_part[1]\n",
    "          spoken_words.append(f\"ngày {num_to_words(day)} tháng {num_to_words(month)}\")\n",
    "        elif len(splitted_value_part) == 3:\n",
    "          day = splitted_value_part[0]\n",
    "          month = splitted_value_part[1]\n",
    "          year = splitted_value_part[2]\n",
    "          spoken_words.append(f\"ngày {num_to_words(day)} tháng {num_to_words(month)} năm {num_to_words(year)}\")\n",
    "          \n",
    "  return \" đến \".join(spoken_words) \n",
    "  "
   ]
  },
  {
   "cell_type": "code",
   "execution_count": 6,
   "id": "54ebcadd",
   "metadata": {},
   "outputs": [
    {
     "name": "stdout",
     "output_type": "stream",
     "text": [
      "ngày hai tháng chín đến ngày mười lăm tháng mười năm hai nghìn không trăm hai mươi mốt\n"
     ]
    }
   ],
   "source": [
    "print(dmdmy_convert(\" 2/9 - 15/10/2021\"))"
   ]
  },
  {
   "cell_type": "code",
   "execution_count": 12,
   "id": "1e4f323f",
   "metadata": {},
   "outputs": [],
   "source": [
    "def mymy_convert(value: str) -> str:\n",
    "  spoken_words = []\n",
    "\n",
    "  value = value.strip()\n",
    "  parts = re.split(r\"[-–—−]\", value)\n",
    "  if len(parts) != 2:\n",
    "    print(\"Wrong format\")\n",
    "    return value\n",
    "\n",
    "  for i in range(len(parts)):\n",
    "    parts[i] = parts[i].strip()\n",
    "    prefix_match = re.match(r\"^(tháng)\\s*\", parts[i])\n",
    "    prefix = \"\"\n",
    "    if prefix_match:\n",
    "        prefix = prefix_match.group(1) + \" \"\n",
    "        value_part = parts[i][prefix_match.end():]  \n",
    "        month, year = re.split(r\"[\\.\\/]\", value_part)\n",
    "        spoken_words.append(f\"{prefix}{num_to_words(month)} năm {num_to_words(year)}\")\n",
    "    else:\n",
    "        value_part = parts[i]\n",
    "        month, year = re.split(r\"[\\.\\/]\", value_part)\n",
    "        spoken_words.append(f\"tháng {num_to_words(month)} năm {num_to_words(year)}\")\n",
    "  \n",
    "  return \" đến \".join(spoken_words)"
   ]
  },
  {
   "cell_type": "code",
   "execution_count": 15,
   "id": "68eeae50",
   "metadata": {},
   "outputs": [
    {
     "name": "stdout",
     "output_type": "stream",
     "text": [
      "tháng chín năm hai nghìn không trăm hai mươi mốt đến tháng mười năm hai nghìn không trăm hai mươi mốt\n"
     ]
    }
   ],
   "source": [
    "print(mymy_convert(\"tháng 9/2021 - tháng 10/2021\"))\n",
    "\n"
   ]
  },
  {
   "cell_type": "code",
   "execution_count": 17,
   "id": "f2e3049d",
   "metadata": {},
   "outputs": [],
   "source": [
    "def ddmy_convert(value: str) -> str:\n",
    "  spoken_words = []\n",
    "\n",
    "  value = value.strip()\n",
    "  parts = re.split(r\"[-–—−]\", value)\n",
    "  if len(parts) != 2:\n",
    "    print(\"Wrong format\")\n",
    "    return value\n",
    "\n",
    "  for i in range(len(parts)):\n",
    "    parts[i] = parts[i].strip()\n",
    "    prefix_match = re.match(r\"^(ngày|sáng|trưa|chiều|tối)\\s*\", parts[i])\n",
    "    prefix = \"\"\n",
    "    if i == 0:\n",
    "      if prefix_match:\n",
    "          prefix = prefix_match.group(1) + \" \"\n",
    "          value_part = parts[i][prefix_match.end():]  \n",
    "          day = value_part \n",
    "          if prefix == \"ngày \":\n",
    "            spoken_words.append(f\"{prefix}{num_to_words(day)}\")\n",
    "          else:\n",
    "            spoken_words.append(f\"{prefix}ngày {num_to_words(day)}\")\n",
    "      else:\n",
    "          value_part = parts[i]\n",
    "          day = value_part\n",
    "          spoken_words.append(f\"ngày {num_to_words(day)}\")\n",
    "    else:\n",
    "      if prefix_match:\n",
    "          prefix = prefix_match.group(1) + \" \"\n",
    "          value_part = parts[i][prefix_match.end():]  \n",
    "          day, month, year = re.split(r\"[\\.\\/]\", value_part)\n",
    "          if prefix == \"ngày \":\n",
    "            spoken_words.append(f\"{prefix}{num_to_words(day)} tháng {num_to_words(month)} năm {num_to_words(year)}\")\n",
    "          else:\n",
    "            spoken_words.append(f\"{prefix}ngày {num_to_words(day)} tháng {num_to_words(month)} năm {num_to_words(year)}\")\n",
    "      else:\n",
    "          value_part = parts[i]\n",
    "          day, month, year = re.split(r\"[\\.\\/]\", value_part)\n",
    "          spoken_words.append(f\"ngày {num_to_words(day)} tháng {num_to_words(month)} năm {num_to_words(year)}\")\n",
    "  \n",
    "  return \" đến \".join(spoken_words) "
   ]
  },
  {
   "cell_type": "code",
   "execution_count": 18,
   "id": "e1966707",
   "metadata": {},
   "outputs": [
    {
     "name": "stdout",
     "output_type": "stream",
     "text": [
      "ngày hai đến ngày mười lăm tháng mười năm hai nghìn không trăm hai mươi mốt\n"
     ]
    }
   ],
   "source": [
    "print(ddmy_convert(\"2 - 15/10/2021\"))"
   ]
  },
  {
   "cell_type": "code",
   "execution_count": 19,
   "id": "d8efd5ba",
   "metadata": {},
   "outputs": [],
   "source": [
    "def dmdm_convert(value: str) -> str:\n",
    "  spoken_words = []\n",
    "\n",
    "  value = value.strip()\n",
    "  parts = re.split(r\"[-–—−]\", value)\n",
    "  if len(parts) != 2:\n",
    "    print(\"Wrong format\")\n",
    "    return value\n",
    "\n",
    "  for i in range(len(parts)):\n",
    "    parts[i] = parts[i].strip()\n",
    "    prefix_match = re.match(r\"^(ngày)\\s*\", parts[i])\n",
    "    prefix = \"\"\n",
    "    if prefix_match:\n",
    "        prefix = prefix_match.group(1) + \" \"\n",
    "        value_part = parts[i][prefix_match.end():]  \n",
    "        day, month = re.split(r\"[\\.\\/]\", value_part)\n",
    "        spoken_words.append(f\"{prefix}{num_to_words(day)} tháng {num_to_words(month)}\")\n",
    "    else:\n",
    "        value_part = parts[i]\n",
    "        day, month = re.split(r\"[\\.\\/]\", value_part)\n",
    "        spoken_words.append(f\"ngày {num_to_words(day)} tháng {num_to_words(month)}\")\n",
    "  \n",
    "  return \" đến \".join(spoken_words)"
   ]
  },
  {
   "cell_type": "code",
   "execution_count": 23,
   "id": "8d37daf1",
   "metadata": {},
   "outputs": [
    {
     "name": "stdout",
     "output_type": "stream",
     "text": [
      "ngày hai tháng chín đến ngày mười lăm tháng mười\n"
     ]
    }
   ],
   "source": [
    "print(dmdm_convert(\"2 /9 -15/ 10\"))"
   ]
  },
  {
   "cell_type": "code",
   "execution_count": 29,
   "id": "fb713d05",
   "metadata": {},
   "outputs": [],
   "source": [
    "def tel_convert(value: str) -> str:\n",
    "    value = value.strip()\n",
    "    value = value.replace(\"(\", \"\").replace(\")\", \"\")\n",
    "    \n",
    "    prefix_match = re.match(r\"(\\+84|84)\", value)\n",
    "    if prefix_match:\n",
    "      value = \"0\" + value[prefix_match.end():].strip()\n",
    "      \n",
    "    return n2w_single(value)"
   ]
  },
  {
   "cell_type": "code",
   "execution_count": 38,
   "id": "b66422ce",
   "metadata": {},
   "outputs": [
    {
     "name": "stdout",
     "output_type": "stream",
     "text": [
      "không hai tám sáu hai chín hai ba bốn chín tám\n"
     ]
    }
   ],
   "source": [
    "print(tel_convert(\"+84 286 292 3498\"))"
   ]
  },
  {
   "cell_type": "code",
   "execution_count": 3,
   "id": "fed5e8a1",
   "metadata": {},
   "outputs": [],
   "source": [
    "def hmhm_convert(value: str) -> str:\n",
    "  spoken_words = []\n",
    "\n",
    "  value = value.strip()\n",
    "  parts = re.split(r\"[-–—−]\", value)\n",
    "  if len(parts) != 2:\n",
    "    print(\"Wrong format\")\n",
    "    return value\n",
    "  \n",
    "  for i in range(len(parts)):\n",
    "    parts[i] = parts[i].strip()\n",
    "    hour, minute = re.split(r\"[hg:]\", parts[i])\n",
    "    if int(minute) != 0:\n",
    "      spoken_words.append(f\"{num_to_words(hour)} giờ {num_to_words(minute)} phút\")\n",
    "    else:\n",
    "      spoken_words.append(f\"{num_to_words(hour)} giờ\")\n",
    "      \n",
    "  return \" đến \".join(spoken_words)"
   ]
  },
  {
   "cell_type": "code",
   "execution_count": 9,
   "id": "db71d940",
   "metadata": {},
   "outputs": [
    {
     "name": "stdout",
     "output_type": "stream",
     "text": [
      "tám giờ hai mươi tư phút đến chín giờ năm mươi phút\n"
     ]
    }
   ],
   "source": [
    "print(hmhm_convert(\"8:24 -9h50\"))"
   ]
  },
  {
   "cell_type": "code",
   "execution_count": 2,
   "id": "b617c870",
   "metadata": {},
   "outputs": [],
   "source": [
    "def dmy_convert(value: str) -> str:\n",
    "  value = value.strip()\n",
    "  prefix_match = re.match(r\"^(ngày|sáng|trưa|chiều|tối)\\s*\", value)\n",
    "  prefix = \"\"\n",
    "  if prefix_match:\n",
    "      prefix = prefix_match.group(1) + \" \"\n",
    "      value_part = value[prefix_match.end():]  \n",
    "      day, month, year = re.split(r\"[\\.\\/]\", value_part)\n",
    "      if prefix == \"ngày \":\n",
    "        return f\"{prefix}{num_to_words(day)} tháng {num_to_words(month)} năm {num_to_words(year)}\"\n",
    "      else:\n",
    "        return f\"{prefix}ngày {num_to_words(day)} tháng {num_to_words(month)} năm {num_to_words(year)}\"\n",
    "  else:\n",
    "      value_part = value\n",
    "      day, month, year = re.split(r\"[\\.\\/]\", value_part)\n",
    "      return f\"ngày {num_to_words(day)} tháng {num_to_words(month)} năm {num_to_words(year)}\""
   ]
  },
  {
   "cell_type": "code",
   "execution_count": null,
   "id": "4558be7b",
   "metadata": {},
   "outputs": [],
   "source": [
    "text = \"\"\"trong cuộc họp với thành phố hà nội hồi cuối tháng 7, vinaconex đã cam kết tập trung mọi nguồn lực khởi công ngay 29,2km tuyến ống truyền tải phân kỳ 1 trong dịp kỷ niệm cách mạng tháng tám (19/8) và quốc khánh 2/9; thi công đồng loạt toàn tuyến với 8 – 10 mũi thi công, trong đó, tập trung hoàn thành trước đoạn ~ 7km từ ql 21 đến nút giao sông tích để nối thông với tuyến ống giai đoạn 1, xong trước ngày 30/6/2015.\"\"\"\n",
    "\n",
    "print(dmy_convert(text))"
   ]
  }
 ],
 "metadata": {
  "kernelspec": {
   "display_name": "unsloth_env",
   "language": "python",
   "name": "python3"
  },
  "language_info": {
   "codemirror_mode": {
    "name": "ipython",
    "version": 3
   },
   "file_extension": ".py",
   "mimetype": "text/x-python",
   "name": "python",
   "nbconvert_exporter": "python",
   "pygments_lexer": "ipython3",
   "version": "3.11.11"
  }
 },
 "nbformat": 4,
 "nbformat_minor": 5
}
