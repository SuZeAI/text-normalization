{
 "cells": [
  {
   "cell_type": "code",
   "execution_count": 2,
   "id": "a6f53c3a",
   "metadata": {},
   "outputs": [
    {
     "name": "stdout",
     "output_type": "stream",
     "text": [
      "/data/datnt3/text-normalization\n"
     ]
    }
   ],
   "source": [
    "%cd .."
   ]
  },
  {
   "cell_type": "markdown",
   "id": "75d2e7e8",
   "metadata": {},
   "source": [
    "# Basic statistics"
   ]
  },
  {
   "cell_type": "code",
   "execution_count": 3,
   "id": "018f718a",
   "metadata": {},
   "outputs": [],
   "source": [
    "import os\n",
    "import pandas as pd\n",
    "\n",
    "file = \"/data/datnt3/text-normalization/data_storage/processed/retagged_data_cleaned.csv\"\n",
    "\n",
    "df = pd.read_csv(file)\n",
    "\n",
    "# df.head(10)"
   ]
  },
  {
   "cell_type": "code",
   "execution_count": 4,
   "id": "b891663c",
   "metadata": {},
   "outputs": [
    {
     "data": {
      "text/plain": [
       "303916"
      ]
     },
     "execution_count": 4,
     "metadata": {},
     "output_type": "execute_result"
    }
   ],
   "source": [
    "len(df)"
   ]
  },
  {
   "cell_type": "code",
   "execution_count": 24,
   "id": "b32acbc3",
   "metadata": {},
   "outputs": [
    {
     "name": "stdout",
     "output_type": "stream",
     "text": [
      "input\n",
      "s_output\n",
      "tagged_sentence\n",
      "tags\n",
      "gpt_tagged_sentence\n",
      "gpt_tags\n",
      "final_tags\n"
     ]
    }
   ],
   "source": [
    "for col in df.columns:\n",
    "  print(col)"
   ]
  },
  {
   "cell_type": "code",
   "execution_count": 7,
   "id": "c062e529",
   "metadata": {},
   "outputs": [
    {
     "name": "stdout",
     "output_type": "stream",
     "text": [
      "final_tags\n",
      "num_int           218744\n",
      "dm                 51482\n",
      "measure            43724\n",
      "num_int1           25529\n",
      "num_float          18208\n",
      "range              16482\n",
      "dmy                11475\n",
      "my                 10062\n",
      "score               6645\n",
      "hm                  5552\n",
      "measure_range       4477\n",
      "currency            4046\n",
      "fraction            3475\n",
      "tel                 2083\n",
      "qy                  1264\n",
      "roman               1142\n",
      "yy                   895\n",
      "dd                   783\n",
      "math_operator        696\n",
      "ddm                  655\n",
      "dmdm                 412\n",
      "currency_range       410\n",
      "hh                   371\n",
      "dmydmy               339\n",
      "hour                 228\n",
      "ddmy                 202\n",
      "mymy                 182\n",
      "ratio                127\n",
      "dmdmy                 97\n",
      "hmhm                  70\n",
      "ms                    67\n",
      "mm                    57\n",
      "mmy                   57\n",
      "hms                   16\n",
      "roman_range            9\n",
      "ss                     8\n",
      "t_mm                   2\n",
      "Name: count, dtype: int64\n"
     ]
    }
   ],
   "source": [
    "tag_counts = (\n",
    "    df[\"final_tags\"]\n",
    "    .dropna()\n",
    "    .str.split(\";\")\n",
    "    .explode()\n",
    "    .str.strip()\n",
    "    .value_counts()\n",
    ")\n",
    "\n",
    "print(tag_counts)"
   ]
  },
  {
   "cell_type": "code",
   "execution_count": null,
   "id": "ec8808e9",
   "metadata": {},
   "outputs": [
    {
     "ename": "TypeError",
     "evalue": "'<' not supported between instances of 'NoneType' and 'int'",
     "output_type": "error",
     "traceback": [
      "\u001b[31m---------------------------------------------------------------------------\u001b[39m",
      "\u001b[31mTypeError\u001b[39m                                 Traceback (most recent call last)",
      "\u001b[36mCell\u001b[39m\u001b[36m \u001b[39m\u001b[32mIn[9]\u001b[39m\u001b[32m, line 7\u001b[39m\n\u001b[32m      5\u001b[39m tag = category[\u001b[33m\"\u001b[39m\u001b[33mname\u001b[39m\u001b[33m\"\u001b[39m]\n\u001b[32m      6\u001b[39m count = tag_counts.get(tag)\n\u001b[32m----> \u001b[39m\u001b[32m7\u001b[39m \u001b[38;5;28;01mif\u001b[39;00m \u001b[43mcount\u001b[49m\u001b[43m \u001b[49m\u001b[43m<\u001b[49m\u001b[43m \u001b[49m\u001b[32;43m70\u001b[39;49m:\n\u001b[32m      8\u001b[39m     \u001b[38;5;28mprint\u001b[39m(\u001b[33mf\u001b[39m\u001b[33m\"\u001b[39m\u001b[38;5;132;01m{\u001b[39;00mtag\u001b[38;5;132;01m}\u001b[39;00m\u001b[33m: \u001b[39m\u001b[38;5;132;01m{\u001b[39;00mcount\u001b[38;5;132;01m}\u001b[39;00m\u001b[33m sentences\u001b[39m\u001b[33m\"\u001b[39m)\n",
      "\u001b[31mTypeError\u001b[39m: '<' not supported between instances of 'NoneType' and 'int'"
     ]
    }
   ],
   "source": [
    "from core.config.config import REGEX_RULE_LIST\n",
    "\n",
    "\n",
    "for category in REGEX_RULE_LIST:\n",
    "    tag = category[\"name\"]\n",
    "    count = tag_counts.get(tag, 0)\n",
    "    if count < 70:\n",
    "        print(f\"{tag}: {count} sentences\")"
   ]
  },
  {
   "cell_type": "code",
   "execution_count": null,
   "id": "cfccedd1",
   "metadata": {},
   "outputs": [],
   "source": [
    "# def clean_tags_field(tag_str):\n",
    "#     tag_set = set()\n",
    "#     if pd.notna(tag_str):\n",
    "#         for tag in tag_str.split(\";\"):\n",
    "#             tag = tag.strip()\n",
    "#             if tag:\n",
    "#                 tag_set.add(tag)\n",
    "#     return \"; \".join(sorted(tag_set))\n",
    "\n",
    "# def clean_tags_row(row):\n",
    "#     row[\"tags\"] = clean_tags_field(row[\"tags\"])\n",
    "#     row[\"gpt_tags\"] = clean_tags_field(row[\"gpt_tags\"])\n",
    "#     row[\"final_tags\"] = clean_tags_field(row[\"final_tags\"])\n",
    "#     return row\n",
    "\n",
    "# df = df.apply(clean_tags_row, axis=1)\n",
    "\n",
    "# # Optional: save cleaned file\n",
    "# df.to_csv(\"/Users/datnt/Desktop/code/text-normalization/data_storage/processed/true_tags_data_cleaned.csv\", index=False)"
   ]
  },
  {
   "cell_type": "code",
   "execution_count": null,
   "id": "694e10f6",
   "metadata": {},
   "outputs": [],
   "source": []
  }
 ],
 "metadata": {
  "kernelspec": {
   "display_name": "unsloth_env",
   "language": "python",
   "name": "python3"
  },
  "language_info": {
   "codemirror_mode": {
    "name": "ipython",
    "version": 3
   },
   "file_extension": ".py",
   "mimetype": "text/x-python",
   "name": "python",
   "nbconvert_exporter": "python",
   "pygments_lexer": "ipython3",
   "version": "3.11.11"
  }
 },
 "nbformat": 4,
 "nbformat_minor": 5
}
