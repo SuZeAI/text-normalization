{
 "cells": [
  {
   "cell_type": "code",
   "execution_count": 4,
   "id": "347baf52",
   "metadata": {},
   "outputs": [
    {
     "name": "stdout",
     "output_type": "stream",
     "text": [
      "/data/datnt3/text-normalization\n"
     ]
    }
   ],
   "source": [
    "%cd ../.."
   ]
  },
  {
   "cell_type": "code",
   "execution_count": 5,
   "id": "10aafdc1",
   "metadata": {},
   "outputs": [],
   "source": [
    "import pandas as pd\n",
    "from core.config.regex_config import INFERENCE_REGEX_RULES"
   ]
  },
  {
   "cell_type": "code",
   "execution_count": 5,
   "id": "24cd7088",
   "metadata": {},
   "outputs": [],
   "source": [
    "raw_train_data_path = \"/data/datnt3/text-normalization/data_storage/train_test/2025-05-25/train_data.csv\""
   ]
  },
  {
   "cell_type": "code",
   "execution_count": 6,
   "id": "d1ad9ba0",
   "metadata": {},
   "outputs": [
    {
     "name": "stderr",
     "output_type": "stream",
     "text": [
      "/tmp/ipykernel_3531341/4045560688.py:1: DtypeWarning: Columns (4,5) have mixed types. Specify dtype option on import or set low_memory=False.\n",
      "  raw_train_data = pd.read_csv(raw_train_data_path)\n"
     ]
    }
   ],
   "source": [
    "raw_train_data = pd.read_csv(raw_train_data_path)"
   ]
  },
  {
   "cell_type": "code",
   "execution_count": 7,
   "id": "51d905bc",
   "metadata": {},
   "outputs": [
    {
     "data": {
      "text/plain": [
       "301913"
      ]
     },
     "execution_count": 7,
     "metadata": {},
     "output_type": "execute_result"
    }
   ],
   "source": [
    "len(raw_train_data)"
   ]
  },
  {
   "cell_type": "code",
   "execution_count": null,
   "id": "3be32182",
   "metadata": {},
   "outputs": [],
   "source": [
    "# import re\n",
    "# from typing import Dict, List\n",
    "# import rootutils\n",
    "\n",
    "# rootutils.setup_root(\n",
    "#     __file__,\n",
    "#     indicator=(\".project-root\", \"setup.cfg\", \"setup.py\", \".git\", \"pyproject.toml\"),\n",
    "#     pythonpath=True,\n",
    "# )\n",
    "\n",
    "# from core.config.config import REGEX_RULE_LIST\n",
    "\n",
    "# class RegexRule:\n",
    "#     def __init__(self, name: str, pattern: str, priority: int):\n",
    "#         self.name = name\n",
    "#         self.pattern = re.compile(pattern=pattern, flags=re.IGNORECASE)\n",
    "#         self.priority = priority\n",
    "\n",
    "\n",
    "# class Rule:\n",
    "#     def __init__(self, rules: List):                                                    \n",
    "#         self.rules = []\n",
    "#         for rule in rules:\n",
    "#             regex_rule = RegexRule(\n",
    "#                 name=rule[\"name\"], pattern=rule[\"pattern\"], priority=rule[\"priority\"]\n",
    "#             )\n",
    "#             self.rules.append(regex_rule)\n",
    "\n",
    "#     def apply_rule(self, raw_sentence: str):\n",
    "#         match_names = []\n",
    "#         matched_spans = []  # List of matched (start, end)\n",
    "#         for rule in self.rules:\n",
    "#             pattern, name = rule.pattern, rule.name\n",
    "#             matches = list(pattern.finditer(raw_sentence))\n",
    "#             for match in matches:\n",
    "#                 is_overlap = False\n",
    "#                 for matched_start, matched_end in matched_spans:\n",
    "#                     if not (\n",
    "#                         match.end() <= matched_start or match.start() >= matched_end\n",
    "#                     ):  # If overlap\n",
    "#                         is_overlap = True\n",
    "\n",
    "#                 if not is_overlap:\n",
    "#                     matched_spans.append((match.start(), match.end()))\n",
    "#                     match_names.append((match, name))\n",
    "\n",
    "#         return match_names\n",
    "\n",
    "#     def tag_sentence(self, raw_sentence: str, match_names: List[tuple]):\n",
    "#         tags = []\n",
    "#         match_infos = []\n",
    "#         for match, name in match_names:\n",
    "#           start = match.start()\n",
    "#           end = match.end()\n",
    "#           match_text = match.group()\n",
    "#           match_infos.append((start, end, match_text, name))\n",
    "#           if name not in tags: \n",
    "#             tags.append(name)\n",
    "#         match_infos.sort(reverse=True, key= lambda x : x[0])\n",
    "\n",
    "#         tagged_sentence = raw_sentence\n",
    "#         for start, end, match_text, name in match_infos:\n",
    "#             tagged_text = f\"~{match_text}#{name}\"\n",
    "#             tagged_sentence = tagged_sentence[:start] + tagged_text + tagged_sentence[end:]\n",
    "        \n",
    "#         return tagged_sentence, tags\n",
    "    \n",
    "#     def get_all_matches(self, sentence: str):\n",
    "#         pattern = r'~(.*?)#(currency_range|math_operator|measure_range|hour_measure|roman_range|num_float|currency|num_int1|fraction|measure|num_int|num/num|num-num|num\\.num|num\\:num|dmydmy|hmshms|dmdmy|range|roman|score|ratio|ddmy|dmdm|mymy|hmhm|msms|t_mm|hour|dmy|mmy|qqy|ddm|hms|tel|qq|dd|mm|yy|my|dm|qy|hh|ss|hm|ms)'\n",
    "#         matches = re.finditer(pattern, sentence)\n",
    "        \n",
    "#         return [match for match in matches]\n",
    "    "
   ]
  },
  {
   "cell_type": "code",
   "execution_count": null,
   "id": "c48a0ca0",
   "metadata": {},
   "outputs": [
    {
     "name": "stdout",
     "output_type": "stream",
     "text": [
      "giai đoạn 3 chiến dịch “trẻ em phải đội mũ bảo hiễm” kéo dài từ tháng 9 - 12/2013.\n",
      "[]\n",
      "giai đoạn 3 chiến dịch “trẻ em phải đội mũ bảo hiễm” kéo dài từ tháng 9 - 12/2013.\n",
      "[]\n",
      "giai đoạn 3 chiến dịch “trẻ em phải đội mũ bảo hiễm” kéo dài từ tháng 9 - 12/2013.\n",
      "[]\n",
      "giai đoạn 3 chiến dịch “trẻ em phải đội mũ bảo hiễm” kéo dài từ tháng 9 - 12/2013.\n",
      "[]\n",
      "giai đoạn 3 chiến dịch “trẻ em phải đội mũ bảo hiễm” kéo dài từ tháng 9 - 12/2013.\n",
      "[]\n",
      "giai đoạn 3 chiến dịch “trẻ em phải đội mũ bảo hiễm” kéo dài từ tháng 9 - 12/2013.\n",
      "[]\n",
      "giai đoạn 3 chiến dịch “trẻ em phải đội mũ bảo hiễm” kéo dài từ tháng 9 - 12/2013.\n",
      "[<re.Match object; span=(64, 81), match='tháng 9 - 12/2013'>]\n",
      "giai đoạn 3 chiến dịch “trẻ em phải đội mũ bảo hiễm” kéo dài từ tháng 9 - 12/2013.\n",
      "[]\n",
      "giai đoạn 3 chiến dịch “trẻ em phải đội mũ bảo hiễm” kéo dài từ tháng 9 - 12/2013.\n",
      "[]\n",
      "giai đoạn 3 chiến dịch “trẻ em phải đội mũ bảo hiễm” kéo dài từ tháng 9 - 12/2013.\n",
      "[]\n"
     ]
    }
   ],
   "source": [
    "# import re\n",
    "# def match(text, pattern):\n",
    "#   matches = re.finditer(pattern, text)\n",
    "#   return [match for match in matches]\n",
    "# def padding(text, start, end):\n",
    "#   i_start\n",
    "#   while start < 0:\n",
    "          \n",
    "# dict_result = {}\n",
    "\n",
    "# for rule in INFERENCE_REGEX_RULES:\n",
    "#   rule_pattern = rule[\"pattern\"]\n",
    "#   rule_name = rule[\"name\"]\n",
    "#   for _, row in raw_train_data.iterrows():\n",
    "#     inp = row[\"input\"]\n",
    "#     print(inp)\n",
    "\n",
    "#     matches = match(inp, rule_pattern)\n",
    "#     print(matches)\n",
    "#     break\n",
    "#   # break\n",
    "    "
   ]
  },
  {
   "cell_type": "code",
   "execution_count": null,
   "id": "93a4dc5a",
   "metadata": {},
   "outputs": [],
   "source": [
    "import re\n",
    "\n",
    "def contains_arabic_number(word: str) -> bool:\n",
    "    return bool(re.search(r'\\d', word))\n",
    "\n",
    "def contains_roman_number(word: str) -> bool:\n",
    "    roman_numeral_pattern = re.compile(\n",
    "        r\"(?<!\\w)([ivx]{1,5})(?!\\w)\",\n",
    "        re.IGNORECASE\n",
    "    )\n",
    "    return bool(roman_numeral_pattern.fullmatch(word))"
   ]
  },
  {
   "cell_type": "code",
   "execution_count": null,
   "id": "f30b5acd",
   "metadata": {},
   "outputs": [],
   "source": [
    "def pad_sentence(sentence, start, end):\n",
    "    left_part = sentence[:start]\n",
    "    right_part = sentence[end:]\n",
    "    \n",
    "    \n",
    "    left_part = left_part.strip()\n",
    "    if left_part:\n",
    "      res_left_part = left_part\n",
    "      left_part_words = left_part.split(\" \") \n",
    "      for i in range(len(left_part_words)-1, -1, -1):\n",
    "        if contains_arabic_number(left_part_words[i]) or contains_roman_number(left_part_words[i]):\n",
    "          res_left_part = \" \".join(left_part_words[i+1:]) + \" \"\n",
    "          break\n",
    "    else:\n",
    "      res_left_part = \"\"\n",
    "\n",
    "    right_part = right_part.strip()\n",
    "    if right_part:\n",
    "      res_right_part = right_part\n",
    "      right_part_words = right_part.split(\" \")\n",
    "      for i in range(len(right_part_words)):\n",
    "        if contains_arabic_number(right_part_words[i]) or contains_roman_number(right_part_words[i]):\n",
    "          res_right_part = \" \" + \" \".join(right_part_words[:i])\n",
    "          break\n",
    "    else:\n",
    "      res_right_part = \"\"\n",
    "        \n",
    "    return res_left_part, res_right_part"
   ]
  },
  {
   "cell_type": "code",
   "execution_count": 15,
   "id": "c38d9972",
   "metadata": {},
   "outputs": [],
   "source": [
    "import pandas as pd\n",
    "\n",
    "raw_train_data = pd.read_csv(\"/data/datnt3/text-normalization/data_storage/experiment/exp.csv\")\n"
   ]
  },
  {
   "cell_type": "code",
   "execution_count": null,
   "id": "74b814ac",
   "metadata": {},
   "outputs": [],
   "source": []
  },
  {
   "cell_type": "code",
   "execution_count": 20,
   "id": "0b270102",
   "metadata": {},
   "outputs": [
    {
     "name": "stdout",
     "output_type": "stream",
     "text": [
      "vp hà tĩnh: 46 nguyễn công trứ, phường tân giang, tp hà tĩnh. tel: 039.3.857.122\n",
      "tối 29/4, tỉnh trà vinh đã long trọng tổ chức lễ kỷ niệm 30 năm ngày tái lập tỉnh (5/1992 - 5/2022), 47 năm giải phóng hoàn toàn miền nam, thống nhất đất nước (30/4/1975 - 30/4/2022) và 132 năm ngày sinh chủ tịch hồ chí minh (19/5/1890 - 19/5/2022).\n",
      "thủ tướng cảm ơn thời gian qua, wb đã ủng hộ việt nam được hoãn trả nợ nhanh các khoản vay ida thêm 1 năm từ tháng 7/2020-7/2021 (trị giá gần 400 triệu usd) giúp chính phủ có thêm nguồn lực và luôn đồng hành cùng việt nam trong những thời khắc khó khăn để phòng chống dịch và phục hồi, phát triển kinh tế - xã hội.\n",
      "{'tel': [{'input': 'nguyễn công trứ, phường tân giang, tp hà tĩnh. tel: 039.3.857.122', 'output': 'nguyễn công trứ, phường tân giang, tp hà tĩnh. tel: không ba chín ba tám năm bảy một hai hai', 'nsw': '039.3.857.122', 'tag': 'tel'}], 'dmydmy': [{'input': 'năm ngày sinh chủ tịch hồ chí minh ( 19/5/1890 - 19/5/2022).', 'output': 'năm ngày sinh chủ tịch hồ chí minh ( ngày mười chín tháng năm năm một nghìn tám trăm chín mươi đến ngày mười chín tháng năm năm hai nghìn không trăm hai mươi hai).', 'nsw': '19/5/1890 - 19/5/2022', 'tag': 'dmydmy'}, {'input': 'năm giải phóng hoàn toàn miền nam, thống nhất đất nước ( 30/4/1975 - 30/4/2022 ) và', 'output': 'năm giải phóng hoàn toàn miền nam, thống nhất đất nước ( ngày ba mươi tháng bốn năm một nghìn chín trăm bảy mươi lăm đến ngày ba mươi tháng bốn năm hai nghìn không trăm hai mươi hai ) và', 'nsw': '30/4/1975 - 30/4/2022', 'tag': 'dmydmy'}], 'mymy': [{'input': 'năm ngày tái lập tỉnh ( 5/1992 - 5/2022 ),', 'output': 'năm ngày tái lập tỉnh ( tháng năm năm một nghìn chín trăm chín mươi hai đến tháng năm năm hai nghìn không trăm hai mươi hai ),', 'nsw': '5/1992 - 5/2022', 'tag': 'mymy'}, {'input': 'năm từ tháng 7/2020-7/2021 (trị giá gần', 'output': 'năm từ tháng bảy năm hai nghìn không trăm hai mươi đến tháng bảy năm hai nghìn không trăm hai mươi mốt (trị giá gần', 'nsw': 'tháng 7/2020-7/2021', 'tag': 'mymy'}]}\n",
      "[{'input': 'nguyễn công trứ, phường tân giang, tp hà tĩnh. tel: 039.3.857.122', 'output': 'nguyễn công trứ, phường tân giang, tp hà tĩnh. tel: không ba chín ba tám năm bảy một hai hai', 'nsw': '039.3.857.122', 'tag': 'tel'}, {'input': 'năm ngày sinh chủ tịch hồ chí minh ( 19/5/1890 - 19/5/2022).', 'output': 'năm ngày sinh chủ tịch hồ chí minh ( ngày mười chín tháng năm năm một nghìn tám trăm chín mươi đến ngày mười chín tháng năm năm hai nghìn không trăm hai mươi hai).', 'nsw': '19/5/1890 - 19/5/2022', 'tag': 'dmydmy'}, {'input': 'năm giải phóng hoàn toàn miền nam, thống nhất đất nước ( 30/4/1975 - 30/4/2022 ) và', 'output': 'năm giải phóng hoàn toàn miền nam, thống nhất đất nước ( ngày ba mươi tháng bốn năm một nghìn chín trăm bảy mươi lăm đến ngày ba mươi tháng bốn năm hai nghìn không trăm hai mươi hai ) và', 'nsw': '30/4/1975 - 30/4/2022', 'tag': 'dmydmy'}, {'input': 'năm ngày tái lập tỉnh ( 5/1992 - 5/2022 ),', 'output': 'năm ngày tái lập tỉnh ( tháng năm năm một nghìn chín trăm chín mươi hai đến tháng năm năm hai nghìn không trăm hai mươi hai ),', 'nsw': '5/1992 - 5/2022', 'tag': 'mymy'}, {'input': 'năm từ tháng 7/2020-7/2021 (trị giá gần', 'output': 'năm từ tháng bảy năm hai nghìn không trăm hai mươi đến tháng bảy năm hai nghìn không trăm hai mươi mốt (trị giá gần', 'nsw': 'tháng 7/2020-7/2021', 'tag': 'mymy'}]\n"
     ]
    }
   ],
   "source": [
    "from core.n2w_handler.nsw_tag.base_rule import Rule\n",
    "from core.n2w_handler.nsw_normalizer import NSWNormalizer\n",
    "\n",
    "from core.common.utils import (\n",
    "    save_data_to_file,\n",
    ")\n",
    "\n",
    "enhanced_train_data = []\n",
    "enhanced_part_train_data = {}\n",
    "\n",
    "for _, row in raw_train_data.iterrows():\n",
    "    inp = row[\"input\"]\n",
    "    print(inp)\n",
    "\n",
    "    rule = Rule(rules=INFERENCE_REGEX_RULES)\n",
    "    nsw_normalizer = NSWNormalizer()\n",
    "\n",
    "    nsw_match_names = rule.apply_rule(raw_sentence=inp)\n",
    "    nsw_tagged_text,_ = rule.tag_sentence(raw_sentence=inp, match_names=nsw_match_names)\n",
    "    \n",
    "    match_infos = []\n",
    "    matches = rule.get_all_matches(sentence=nsw_tagged_text)\n",
    "    for match in matches:\n",
    "      match_infos.append((match.start(), match.end(), match.group(1), match.group(2)))\n",
    "    match_infos.sort(reverse=True, key=lambda x: x[0])\n",
    "    \n",
    "    for match_start, match_end, match_nsw, match_category in match_infos:\n",
    "      left_part, right_part = pad_sentence(nsw_tagged_text, match_start, match_end)\n",
    "      \n",
    "      padding_inp = left_part + match_nsw + right_part\n",
    "      \n",
    "      spoken_word = nsw_normalizer.convert(category=match_category, value=match_nsw)\n",
    "      padding_output = left_part + spoken_word + right_part\n",
    "      \n",
    "      enhanced_data = {\n",
    "        \"input\": padding_inp.strip(),\n",
    "        \"output\": padding_output.strip(),\n",
    "        \"nsw\": match_nsw,\n",
    "        \"tag\": match_category,\n",
    "      }\n",
    "      \n",
    "      enhanced_train_data.append(enhanced_data)\n",
    "      if match_category not in enhanced_part_train_data.keys():\n",
    "        enhanced_part_train_data[match_category] = []\n",
    "      enhanced_part_train_data[match_category].append(enhanced_data)\n",
    "      \n",
    "      if len(enhanced_train_data) == 10:\n",
    "        enhanced_train_data_csv = save_data_to_file(enhanced_train_data, saved_dir=\"data_storage/train_test/enhanced\", saved_file=\"enhanced_train_data.csv\")\n",
    "        enhanced_train_data.clear()\n",
    "\n",
    "      for category, enhanced_data_list in enhanced_part_train_data.items():\n",
    "        if len(enhanced_data_list) == 10:\n",
    "          enhanced_part_train_data_csv = save_data_to_file(enhanced_data_list, saved_dir=\"data_storage/train_test/enhanced\", saved_file=f\"{category}_enhanced_part_train_data.csv\")\n",
    "          enhanced_part_train_data[category].clear()\n",
    "\n",
    "if enhanced_train_data:\n",
    "    enhanced_train_data_csv = save_data_to_file(enhanced_train_data, saved_dir=\"data_storage/train_test/enhanced\", saved_file=\"enhanced_train_data.csv\")\n",
    "    \n",
    "for category, enhanced_data_list in enhanced_part_train_data.items():\n",
    "        if enhanced_data_list:\n",
    "          enhanced_part_train_data_csv = save_data_to_file(enhanced_data_list, saved_dir=\"data_storage/train_test/enhanced\", saved_file=f\"{category}_enhanced_part_train_data.csv\")\n",
    "          \n",
    "\n",
    "print(enhanced_part_train_data)\n",
    "print(enhanced_train_data)\n",
    "      "
   ]
  },
  {
   "cell_type": "code",
   "execution_count": 18,
   "id": "f1eccaee",
   "metadata": {},
   "outputs": [
    {
     "name": "stdout",
     "output_type": "stream",
     "text": [
      "nguyễn công trứ, phường tân giang, tp hà tĩnh. tel: 039.3.857.122\n",
      "nguyễn công trứ, phường tân giang, tp hà tĩnh. tel: không ba chín ba tám năm bảy một hai hai\n",
      "năm ngày sinh chủ tịch hồ chí minh ( 19/5/1890 - 19/5/2022).\n",
      "năm ngày sinh chủ tịch hồ chí minh ( ngày mười chín tháng năm năm một nghìn tám trăm chín mươi đến ngày mười chín tháng năm năm hai nghìn không trăm hai mươi hai).\n",
      "năm giải phóng hoàn toàn miền nam, thống nhất đất nước ( 30/4/1975 - 30/4/2022 ) và\n",
      "năm giải phóng hoàn toàn miền nam, thống nhất đất nước ( ngày ba mươi tháng bốn năm một nghìn chín trăm bảy mươi lăm đến ngày ba mươi tháng bốn năm hai nghìn không trăm hai mươi hai ) và\n",
      "năm ngày tái lập tỉnh ( 5/1992 - 5/2022 ),\n",
      "năm ngày tái lập tỉnh ( tháng năm năm một nghìn chín trăm chín mươi hai đến tháng năm năm hai nghìn không trăm hai mươi hai ),\n",
      "năm từ tháng 7/2020-7/2021 (trị giá gần\n",
      "năm từ tháng bảy năm hai nghìn không trăm hai mươi đến tháng bảy năm hai nghìn không trăm hai mươi mốt (trị giá gần\n"
     ]
    }
   ],
   "source": [
    "for item in enhanced_train_data:\n",
    "    print(item[\"input\"])\n",
    "    print(item[\"output\"])"
   ]
  }
 ],
 "metadata": {
  "kernelspec": {
   "display_name": "unsloth_env",
   "language": "python",
   "name": "python3"
  },
  "language_info": {
   "codemirror_mode": {
    "name": "ipython",
    "version": 3
   },
   "file_extension": ".py",
   "mimetype": "text/x-python",
   "name": "python",
   "nbconvert_exporter": "python",
   "pygments_lexer": "ipython3",
   "version": "3.11.11"
  }
 },
 "nbformat": 4,
 "nbformat_minor": 5
}
