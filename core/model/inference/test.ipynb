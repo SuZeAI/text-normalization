{
 "cells": [
  {
   "cell_type": "code",
   "execution_count": 1,
   "id": "33db0c17",
   "metadata": {},
   "outputs": [
    {
     "name": "stdout",
     "output_type": "stream",
     "text": [
      "🦥 Unsloth: Will patch your computer to enable 2x faster free finetuning.\n"
     ]
    },
    {
     "name": "stderr",
     "output_type": "stream",
     "text": [
      "/home/vinhpt/miniconda3/envs/unsloth_env/lib/python3.11/site-packages/tqdm/auto.py:21: TqdmWarning: IProgress not found. Please update jupyter and ipywidgets. See https://ipywidgets.readthedocs.io/en/stable/user_install.html\n",
      "  from .autonotebook import tqdm as notebook_tqdm\n"
     ]
    },
    {
     "name": "stdout",
     "output_type": "stream",
     "text": [
      "🦥 Unsloth Zoo will now patch everything to make training faster!\n"
     ]
    }
   ],
   "source": [
    "import unsloth\n",
    "import torch"
   ]
  },
  {
   "cell_type": "code",
   "execution_count": 2,
   "id": "67398f35",
   "metadata": {},
   "outputs": [
    {
     "name": "stdout",
     "output_type": "stream",
     "text": [
      "==((====))==  Unsloth 2025.5.7: Fast Llama patching. Transformers: 4.51.3.\n",
      "   \\\\   /|    NVIDIA GeForce RTX 3060. Num GPUs = 1. Max memory: 11.762 GB. Platform: Linux.\n",
      "O^O/ \\_/ \\    Torch: 2.6.0+cu124. CUDA: 8.6. CUDA Toolkit: 12.4. Triton: 3.2.0\n",
      "\\        /    Bfloat16 = TRUE. FA [Xformers = 0.0.29.post2. FA2 = False]\n",
      " \"-____-\"     Free license: http://github.com/unslothai/unsloth\n",
      "Unsloth: Fast downloading is enabled - ignore downloading bars which are red colored!\n"
     ]
    },
    {
     "name": "stderr",
     "output_type": "stream",
     "text": [
      "Unsloth 2025.5.7 patched 16 layers with 16 QKV layers, 16 O layers and 16 MLP layers.\n"
     ]
    }
   ],
   "source": [
    "max_seq_length = 2048 # Choose any! We auto support RoPE Scaling internally!\n",
    "dtype = None # None for auto detection. Float16 for Tesla T4, V100, Bfloat16 for Ampere+\n",
    "load_in_4bit = False # Use 4bit quantization to reduce memory usage. Can be False.\n",
    "\n",
    "if True:\n",
    "    from unsloth import FastLanguageModel\n",
    "    model, tokenizer = FastLanguageModel.from_pretrained(\n",
    "        model_name = \"/data/datnt3/text-normalization/core/model/saved/lora/vn-llama3.2-1b-finetuned-300k\", # YOUR MODEL YOU USED FOR TRAINING\n",
    "        max_seq_length = max_seq_length,\n",
    "        dtype = dtype,\n",
    "        load_in_4bit = load_in_4bit,\n",
    "    )\n",
    "    FastLanguageModel.for_inference(model) # Enable native 2x faster inference\n",
    "\n",
    "# messages = [\n",
    "#     {\"role\": \"system\",\n",
    "#     \"content\": \"You are a phonetic Vietnamese specialist mastering in Text normalization task in Text To Speech. Convert each numerical non-standard word into its spoken phonetic Vietnamese form, integrating it back into the sentence.\"},\n",
    "#     {\"role\": \"user\", \"content\": \"\"\"Convert the NSWs in the below sentence to spoken words: \"đáng chú ý, tiến có 3 tiền án về tội trộm cắp tài sản.\" \"\"\"}\n",
    "# ]\n",
    "# inputs = tokenizer.apply_chat_template(\n",
    "#     messages,\n",
    "#     tokenize = True,\n",
    "#     add_generation_prompt = True, # Must add for generation\n",
    "#     return_tensors = \"pt\",\n",
    "# ).to(\"cuda\")\n",
    "\n",
    "# from transformers import TextStreamer\n",
    "# text_streamer = TextStreamer(tokenizer, skip_prompt = True)\n",
    "# _ = model.generate(input_ids = inputs, streamer = text_streamer, max_new_tokens = 512,\n",
    "#                    use_cache = True, temperature = 1.5, top_p = 0.9)"
   ]
  },
  {
   "cell_type": "code",
   "execution_count": 119,
   "id": "89987b58",
   "metadata": {},
   "outputs": [
    {
     "name": "stdout",
     "output_type": "stream",
     "text": [
      "\"trước đó, lãnh đạo bộ thông "
     ]
    },
    {
     "name": "stdout",
     "output_type": "stream",
     "text": [
      "tin và truyền thông đã chỉ đạo viettel và vnpt gấp rút xử lý việc báo điện tử vov bị tấn công mạng trong hai ngày từ ngày mười hai đến ngày mười ba tháng sáu năm hai nghìn không trăm hai mươi mốt.<|eot_id|>\n"
     ]
    }
   ],
   "source": [
    "messages = [\n",
    "    {\"role\": \"system\",\n",
    "    \"content\": \"\"\"\n",
    "    You are a phonetic Vietnamese specialist mastering in Text normalization task in Text To Speech. Convert each numerical non-standard word into its spoken phonetic Vietnamese form, integrating it back into the sentence.\n",
    "    \"\"\"},\n",
    "    {\"role\": \"user\", \"content\": \"\"\"\n",
    "    Expand the below sentence having non-standard words into its spoken phonetic Vietnamese form. \n",
    "    \n",
    "    \"trước đó, lãnh đạo bộ thông tin và truyền thông đã chỉ đạo viettel và vnpt gấp rút xử lý việc báo điện tử vov bị tấn công mạng trong 2 ngày 12-13/6/2021.\n",
    "    \"\"\"}\n",
    "]\n",
    "inputs = tokenizer.apply_chat_template(\n",
    "    messages,\n",
    "    tokenize = True,\n",
    "    add_generation_prompt = True, # Must add for generation\n",
    "    return_tensors = \"pt\",\n",
    ").to(\"cuda\")\n",
    "\n",
    "from transformers import TextStreamer\n",
    "text_streamer = TextStreamer(tokenizer, skip_prompt = True)\n",
    "_ = model.generate(input_ids = inputs, streamer = text_streamer, max_new_tokens = 1024, use_cache = True, temperature = 1.5, top_p = 0.9)"
   ]
  },
  {
   "cell_type": "code",
   "execution_count": null,
   "id": "8dea867b",
   "metadata": {},
   "outputs": [],
   "source": []
  },
  {
   "cell_type": "code",
   "execution_count": null,
   "id": "2baa3a02",
   "metadata": {},
   "outputs": [],
   "source": []
  },
  {
   "cell_type": "code",
   "execution_count": 78,
   "id": "ab86fe86",
   "metadata": {},
   "outputs": [
    {
     "data": {
      "text/plain": [
       "{'exact_match': np.float64(1.0)}"
      ]
     },
     "execution_count": 78,
     "metadata": {},
     "output_type": "execute_result"
    }
   ],
   "source": [
    "from evaluate import load\n",
    "exact_match_metric = load(\"exact_match\")\n",
    "\n",
    "refs = [\"đối với gói hỗ trợ theo nghị quyết một trăm mười sáu nq-cp, đến nay cơ bản nghệ an đã hoàn thành việc xác định số lượng giảm đóng cho sáu nghìn chín trăm bốn mươi ba đơn vị, với một trăm năm mươi tám nghìn chín trăm mười một lao động, kinh phí tạm tính được điều chỉnh (từ tháng mười năm hai nghìn hai mươi mốt đến tháng chín năm hai nghìn hai mươi hai) khoảng tám mươi lăm phẩy sáu tỷ đồng.\"]\n",
    "preds = [\"đối với gói hỗ trợ theo nghị quyết một trăm mười sáu /nq-cp, đến nay cơ bản nghệ an đã hoàn thành việc xác định số lượng giảm đóng cho sáu nghìn chín trăm bốn mươi ba đơn vị, với một trăm năm mươi tám nghìn chín trăm mười một lao động, kinh phí tạm tính được điều chỉnh (từ tháng mười năm hai nghìn không trăm hai mươi mốt đến tháng chín năm hai nghìn không trăm hai mươi hai) khoảng tám mươi lăm phẩy sáu tỷ đồng.\"]\n",
    "\n",
    "results = exact_match_metric.compute(references=refs, predictions=preds, regexes_to_ignore=[\" không trăm\",\"/\"], ignore_case=True, ignore_punctuation=True)\n",
    "results"
   ]
  }
 ],
 "metadata": {
  "kernelspec": {
   "display_name": "unsloth_env",
   "language": "python",
   "name": "python3"
  },
  "language_info": {
   "codemirror_mode": {
    "name": "ipython",
    "version": 3
   },
   "file_extension": ".py",
   "mimetype": "text/x-python",
   "name": "python",
   "nbconvert_exporter": "python",
   "pygments_lexer": "ipython3",
   "version": "3.11.11"
  }
 },
 "nbformat": 4,
 "nbformat_minor": 5
}
